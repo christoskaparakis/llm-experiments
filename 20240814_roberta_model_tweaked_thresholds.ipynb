{
 "cells": [
  {
   "cell_type": "markdown",
   "metadata": {},
   "source": [
    "# LLM experiments for sentiment analysis"
   ]
  },
  {
   "cell_type": "markdown",
   "metadata": {},
   "source": [
    "## Import required packages"
   ]
  },
  {
   "cell_type": "code",
   "execution_count": 13,
   "metadata": {},
   "outputs": [],
   "source": [
    "import torch\n",
    "import pandas as pd\n",
    "import matplotlib.pyplot as plt\n",
    "from scipy.special import softmax\n",
    "# Import generic wrappers\n",
    "from transformers import AutoTokenizer, AutoModelForSequenceClassification \n",
    "from tqdm import tqdm\n",
    "tqdm.pandas()"
   ]
  },
  {
   "cell_type": "markdown",
   "metadata": {},
   "source": [
    "## Load Abels english dataset and test permormance"
   ]
  },
  {
   "cell_type": "code",
   "execution_count": 65,
   "metadata": {},
   "outputs": [],
   "source": [
    "data = pd.read_csv('LLM_examples.csv', sep=';')\n",
    "data.columns = [\"sentence\", \"sentiment\"]\n",
    "data['label'] = data['sentiment'].apply(lambda x: 2 if x == 'Positive' else 0 if x == 'Negative' else 1)"
   ]
  },
  {
   "cell_type": "code",
   "execution_count": 66,
   "metadata": {},
   "outputs": [
    {
     "data": {
      "text/html": [
       "<div>\n",
       "<style scoped>\n",
       "    .dataframe tbody tr th:only-of-type {\n",
       "        vertical-align: middle;\n",
       "    }\n",
       "\n",
       "    .dataframe tbody tr th {\n",
       "        vertical-align: top;\n",
       "    }\n",
       "\n",
       "    .dataframe thead th {\n",
       "        text-align: right;\n",
       "    }\n",
       "</style>\n",
       "<table border=\"1\" class=\"dataframe\">\n",
       "  <thead>\n",
       "    <tr style=\"text-align: right;\">\n",
       "      <th></th>\n",
       "      <th>sentence</th>\n",
       "      <th>sentiment</th>\n",
       "      <th>label</th>\n",
       "    </tr>\n",
       "  </thead>\n",
       "  <tbody>\n",
       "    <tr>\n",
       "      <th>0</th>\n",
       "      <td>I absolutely loved the new movie; it was fanta...</td>\n",
       "      <td>Positive</td>\n",
       "      <td>2</td>\n",
       "    </tr>\n",
       "    <tr>\n",
       "      <th>1</th>\n",
       "      <td>The customer service was excellent; they were ...</td>\n",
       "      <td>Positive</td>\n",
       "      <td>2</td>\n",
       "    </tr>\n",
       "    <tr>\n",
       "      <th>2</th>\n",
       "      <td>This is the best product I've ever used; highl...</td>\n",
       "      <td>Positive</td>\n",
       "      <td>2</td>\n",
       "    </tr>\n",
       "    <tr>\n",
       "      <th>3</th>\n",
       "      <td>I’m so happy with my recent purchase; it excee...</td>\n",
       "      <td>Positive</td>\n",
       "      <td>2</td>\n",
       "    </tr>\n",
       "    <tr>\n",
       "      <th>4</th>\n",
       "      <td>The event was incredibly well-organized and en...</td>\n",
       "      <td>Positive</td>\n",
       "      <td>2</td>\n",
       "    </tr>\n",
       "  </tbody>\n",
       "</table>\n",
       "</div>"
      ],
      "text/plain": [
       "                                            sentence sentiment  label\n",
       "0  I absolutely loved the new movie; it was fanta...  Positive      2\n",
       "1  The customer service was excellent; they were ...  Positive      2\n",
       "2  This is the best product I've ever used; highl...  Positive      2\n",
       "3  I’m so happy with my recent purchase; it excee...  Positive      2\n",
       "4  The event was incredibly well-organized and en...  Positive      2"
      ]
     },
     "execution_count": 66,
     "metadata": {},
     "output_type": "execute_result"
    }
   ],
   "source": [
    "data.head()"
   ]
  },
  {
   "cell_type": "markdown",
   "metadata": {},
   "source": [
    "## Test performance of task specific models"
   ]
  },
  {
   "cell_type": "code",
   "execution_count": 67,
   "metadata": {},
   "outputs": [
    {
     "name": "stderr",
     "output_type": "stream",
     "text": [
      "Some weights of the model checkpoint at cardiffnlp/twitter-roberta-base-sentiment-latest were not used when initializing RobertaForSequenceClassification: ['roberta.pooler.dense.bias', 'roberta.pooler.dense.weight']\n",
      "- This IS expected if you are initializing RobertaForSequenceClassification from the checkpoint of a model trained on another task or with another architecture (e.g. initializing a BertForSequenceClassification model from a BertForPreTraining model).\n",
      "- This IS NOT expected if you are initializing RobertaForSequenceClassification from the checkpoint of a model that you expect to be exactly identical (initializing a BertForSequenceClassification model from a BertForSequenceClassification model).\n",
      "/Users/eq81tw/.homebrew/anaconda3/envs/py39/lib/python3.9/site-packages/transformers/tokenization_utils_base.py:1601: FutureWarning: `clean_up_tokenization_spaces` was not set. It will be set to `True` by default. This behavior will be depracted in transformers v4.45, and will be then set to `False` by default. For more details check this issue: https://github.com/huggingface/transformers/issues/31884\n",
      "  warnings.warn(\n"
     ]
    }
   ],
   "source": [
    "# Define the model repo\n",
    "model_name = \"cardiffnlp/twitter-roberta-base-sentiment-latest\" \n",
    "\n",
    "\n",
    "# Download pytorch model\n",
    "model = AutoModelForSequenceClassification.from_pretrained(model_name)\n",
    "tokenizer = AutoTokenizer.from_pretrained(model_name)"
   ]
  },
  {
   "cell_type": "code",
   "execution_count": 68,
   "metadata": {},
   "outputs": [],
   "source": [
    "def sentiment_score(review):\n",
    "  tokens = tokenizer.encode(review, return_tensors='pt')\n",
    "  result = model(tokens)\n",
    "  predicted_class = int(torch.argmax(result.logits))\n",
    "  class_probabilities = softmax(result[0][0].detach().numpy())\n",
    "  positive_probability = class_probabilities[2]/(class_probabilities[2] + class_probabilities[0])\n",
    "  return positive_probability"
   ]
  },
  {
   "cell_type": "code",
   "execution_count": 69,
   "metadata": {},
   "outputs": [
    {
     "name": "stderr",
     "output_type": "stream",
     "text": [
      "100%|██████████████████████████████████████████████████████████████████████████████████████████████████████████████████████████████| 1020/1020 [00:42<00:00, 24.10it/s]\n"
     ]
    }
   ],
   "source": [
    "data['positive_probability'] = data['sentence'].progress_apply(lambda x: sentiment_score(x[:512]))"
   ]
  },
  {
   "cell_type": "code",
   "execution_count": 145,
   "metadata": {},
   "outputs": [],
   "source": [
    "def discretise_probability(probability):\n",
    "    if probability <= 0.04:\n",
    "        return 0\n",
    "    elif probability <= 0.994:\n",
    "        return 1\n",
    "    else:\n",
    "        return 2"
   ]
  },
  {
   "cell_type": "code",
   "execution_count": 146,
   "metadata": {},
   "outputs": [
    {
     "name": "stdout",
     "output_type": "stream",
     "text": [
      "0.014705522218719125 0.9960869252681732\n"
     ]
    }
   ],
   "source": [
    "q1 = data['positive_probability'].quantile(0.25)\n",
    "q3 = data['positive_probability'].quantile(0.75)\n",
    "print(q1, q3)"
   ]
  },
  {
   "cell_type": "code",
   "execution_count": 147,
   "metadata": {},
   "outputs": [
    {
     "data": {
      "text/plain": [
       "array([[<Axes: title={'center': 'positive_probability'}>]], dtype=object)"
      ]
     },
     "execution_count": 147,
     "metadata": {},
     "output_type": "execute_result"
    },
    {
     "data": {
      "image/png": "[encoded data removed]",
      "text/plain": [
       "<Figure size 640x480 with 1 Axes>"
      ]
     },
     "metadata": {},
     "output_type": "display_data"
    }
   ],
   "source": [
    "data[['positive_probability']].hist(bins=100)"
   ]
  },
  {
   "cell_type": "code",
   "execution_count": 148,
   "metadata": {},
   "outputs": [],
   "source": [
    "data['predicted_label'] = data['positive_probability'].apply(lambda x: discretise_probability(x))"
   ]
  },
  {
   "cell_type": "code",
   "execution_count": 149,
   "metadata": {},
   "outputs": [
    {
     "data": {
      "text/html": [
       "<div>\n",
       "<style scoped>\n",
       "    .dataframe tbody tr th:only-of-type {\n",
       "        vertical-align: middle;\n",
       "    }\n",
       "\n",
       "    .dataframe tbody tr th {\n",
       "        vertical-align: top;\n",
       "    }\n",
       "\n",
       "    .dataframe thead th {\n",
       "        text-align: right;\n",
       "    }\n",
       "</style>\n",
       "<table border=\"1\" class=\"dataframe\">\n",
       "  <thead>\n",
       "    <tr style=\"text-align: right;\">\n",
       "      <th></th>\n",
       "      <th>sentence</th>\n",
       "      <th>sentiment</th>\n",
       "      <th>label</th>\n",
       "      <th>positive_probability</th>\n",
       "      <th>predicted_label</th>\n",
       "    </tr>\n",
       "  </thead>\n",
       "  <tbody>\n",
       "    <tr>\n",
       "      <th>210</th>\n",
       "      <td>I received an invitation to speak at a confere...</td>\n",
       "      <td>Positive</td>\n",
       "      <td>2</td>\n",
       "      <td>0.998496</td>\n",
       "      <td>2</td>\n",
       "    </tr>\n",
       "    <tr>\n",
       "      <th>542</th>\n",
       "      <td>The weather was perfect for a bike ride around...</td>\n",
       "      <td>Positive</td>\n",
       "      <td>2</td>\n",
       "      <td>0.998284</td>\n",
       "      <td>2</td>\n",
       "    </tr>\n",
       "    <tr>\n",
       "      <th>562</th>\n",
       "      <td>Went stargazing tonight, and the sky was so cl...</td>\n",
       "      <td>Positive</td>\n",
       "      <td>2</td>\n",
       "      <td>0.998283</td>\n",
       "      <td>2</td>\n",
       "    </tr>\n",
       "    <tr>\n",
       "      <th>730</th>\n",
       "      <td>Got a surprise package in the mail today from ...</td>\n",
       "      <td>Positive</td>\n",
       "      <td>2</td>\n",
       "      <td>0.998215</td>\n",
       "      <td>2</td>\n",
       "    </tr>\n",
       "    <tr>\n",
       "      <th>305</th>\n",
       "      <td>The local bakery introduced a new flavor, and ...</td>\n",
       "      <td>Positive</td>\n",
       "      <td>2</td>\n",
       "      <td>0.998193</td>\n",
       "      <td>2</td>\n",
       "    </tr>\n",
       "    <tr>\n",
       "      <th>...</th>\n",
       "      <td>...</td>\n",
       "      <td>...</td>\n",
       "      <td>...</td>\n",
       "      <td>...</td>\n",
       "      <td>...</td>\n",
       "    </tr>\n",
       "    <tr>\n",
       "      <th>47</th>\n",
       "      <td>The new apartment has too many issues; I regre...</td>\n",
       "      <td>Negative</td>\n",
       "      <td>0</td>\n",
       "      <td>0.005290</td>\n",
       "      <td>0</td>\n",
       "    </tr>\n",
       "    <tr>\n",
       "      <th>852</th>\n",
       "      <td>The movie I rented was really bad—total waste ...</td>\n",
       "      <td>Negative</td>\n",
       "      <td>0</td>\n",
       "      <td>0.005076</td>\n",
       "      <td>0</td>\n",
       "    </tr>\n",
       "    <tr>\n",
       "      <th>745</th>\n",
       "      <td>My flight got delayed, and now I’m stuck at th...</td>\n",
       "      <td>Negative</td>\n",
       "      <td>0</td>\n",
       "      <td>0.004990</td>\n",
       "      <td>0</td>\n",
       "    </tr>\n",
       "    <tr>\n",
       "      <th>151</th>\n",
       "      <td>The traffic was so bad that it took me twice a...</td>\n",
       "      <td>Negative</td>\n",
       "      <td>0</td>\n",
       "      <td>0.004980</td>\n",
       "      <td>0</td>\n",
       "    </tr>\n",
       "    <tr>\n",
       "      <th>863</th>\n",
       "      <td>My flight was delayed, and now I’m stuck at th...</td>\n",
       "      <td>Negative</td>\n",
       "      <td>0</td>\n",
       "      <td>0.004937</td>\n",
       "      <td>0</td>\n",
       "    </tr>\n",
       "  </tbody>\n",
       "</table>\n",
       "<p>1020 rows × 5 columns</p>\n",
       "</div>"
      ],
      "text/plain": [
       "                                              sentence sentiment  label  \\\n",
       "210  I received an invitation to speak at a confere...  Positive      2   \n",
       "542  The weather was perfect for a bike ride around...  Positive      2   \n",
       "562  Went stargazing tonight, and the sky was so cl...  Positive      2   \n",
       "730  Got a surprise package in the mail today from ...  Positive      2   \n",
       "305  The local bakery introduced a new flavor, and ...  Positive      2   \n",
       "..                                                 ...       ...    ...   \n",
       "47   The new apartment has too many issues; I regre...  Negative      0   \n",
       "852  The movie I rented was really bad—total waste ...  Negative      0   \n",
       "745  My flight got delayed, and now I’m stuck at th...  Negative      0   \n",
       "151  The traffic was so bad that it took me twice a...  Negative      0   \n",
       "863  My flight was delayed, and now I’m stuck at th...  Negative      0   \n",
       "\n",
       "     positive_probability  predicted_label  \n",
       "210              0.998496                2  \n",
       "542              0.998284                2  \n",
       "562              0.998283                2  \n",
       "730              0.998215                2  \n",
       "305              0.998193                2  \n",
       "..                    ...              ...  \n",
       "47               0.005290                0  \n",
       "852              0.005076                0  \n",
       "745              0.004990                0  \n",
       "151              0.004980                0  \n",
       "863              0.004937                0  \n",
       "\n",
       "[1020 rows x 5 columns]"
      ]
     },
     "execution_count": 149,
     "metadata": {},
     "output_type": "execute_result"
    }
   ],
   "source": [
    "data.sort_values(by=\"positive_probability\", ascending=False)"
   ]
  },
  {
   "cell_type": "code",
   "execution_count": 150,
   "metadata": {},
   "outputs": [
    {
     "name": "stdout",
     "output_type": "stream",
     "text": [
      "[[330  10   0]\n",
      " [ 12 299  29]\n",
      " [  0  19 321]]\n"
     ]
    }
   ],
   "source": [
    "#chech performance\n",
    "from sklearn import metrics\n",
    "\n",
    "# define confusion matrix\n",
    "confusion_matrix = metrics.confusion_matrix(data['label'], data['predicted_label'])\n",
    "\n",
    "print(confusion_matrix)"
   ]
  },
  {
   "cell_type": "code",
   "execution_count": 151,
   "metadata": {},
   "outputs": [
    {
     "data": {
      "image/png": "[encoded data removed]",
      "text/plain": [
       "<Figure size 640x480 with 2 Axes>"
      ]
     },
     "metadata": {},
     "output_type": "display_data"
    }
   ],
   "source": [
    "# visualize confusion matrix with sklearn metrics\n",
    "# define matrix and create labels\n",
    "cm_display = metrics.ConfusionMatrixDisplay(confusion_matrix = confusion_matrix, display_labels = [\"Negative\", \"Neutral\", \"Positive\"])\n",
    "\n",
    "# display matrix\n",
    "cm_display.plot()\n",
    "plt.show()"
   ]
  },
  {
   "cell_type": "code",
   "execution_count": 158,
   "metadata": {},
   "outputs": [
    {
     "data": {
      "text/html": [
       "<div>\n",
       "<style scoped>\n",
       "    .dataframe tbody tr th:only-of-type {\n",
       "        vertical-align: middle;\n",
       "    }\n",
       "\n",
       "    .dataframe tbody tr th {\n",
       "        vertical-align: top;\n",
       "    }\n",
       "\n",
       "    .dataframe thead th {\n",
       "        text-align: right;\n",
       "    }\n",
       "</style>\n",
       "<table border=\"1\" class=\"dataframe\">\n",
       "  <thead>\n",
       "    <tr style=\"text-align: right;\">\n",
       "      <th></th>\n",
       "      <th>sentence</th>\n",
       "      <th>sentiment</th>\n",
       "      <th>label</th>\n",
       "      <th>positive_probability</th>\n",
       "      <th>predicted_label</th>\n",
       "    </tr>\n",
       "  </thead>\n",
       "  <tbody>\n",
       "    <tr>\n",
       "      <th>863</th>\n",
       "      <td>My flight was delayed, and now I’m stuck at th...</td>\n",
       "      <td>Negative</td>\n",
       "      <td>0</td>\n",
       "      <td>0.004937</td>\n",
       "      <td>0</td>\n",
       "    </tr>\n",
       "    <tr>\n",
       "      <th>151</th>\n",
       "      <td>The traffic was so bad that it took me twice a...</td>\n",
       "      <td>Negative</td>\n",
       "      <td>0</td>\n",
       "      <td>0.004980</td>\n",
       "      <td>0</td>\n",
       "    </tr>\n",
       "    <tr>\n",
       "      <th>745</th>\n",
       "      <td>My flight got delayed, and now I’m stuck at th...</td>\n",
       "      <td>Negative</td>\n",
       "      <td>0</td>\n",
       "      <td>0.004990</td>\n",
       "      <td>0</td>\n",
       "    </tr>\n",
       "    <tr>\n",
       "      <th>852</th>\n",
       "      <td>The movie I rented was really bad—total waste ...</td>\n",
       "      <td>Negative</td>\n",
       "      <td>0</td>\n",
       "      <td>0.005076</td>\n",
       "      <td>0</td>\n",
       "    </tr>\n",
       "    <tr>\n",
       "      <th>47</th>\n",
       "      <td>The new apartment has too many issues; I regre...</td>\n",
       "      <td>Negative</td>\n",
       "      <td>0</td>\n",
       "      <td>0.005290</td>\n",
       "      <td>0</td>\n",
       "    </tr>\n",
       "  </tbody>\n",
       "</table>\n",
       "</div>"
      ],
      "text/plain": [
       "                                              sentence sentiment  label  \\\n",
       "863  My flight was delayed, and now I’m stuck at th...  Negative      0   \n",
       "151  The traffic was so bad that it took me twice a...  Negative      0   \n",
       "745  My flight got delayed, and now I’m stuck at th...  Negative      0   \n",
       "852  The movie I rented was really bad—total waste ...  Negative      0   \n",
       "47   The new apartment has too many issues; I regre...  Negative      0   \n",
       "\n",
       "     positive_probability  predicted_label  \n",
       "863              0.004937                0  \n",
       "151              0.004980                0  \n",
       "745              0.004990                0  \n",
       "852              0.005076                0  \n",
       "47               0.005290                0  "
      ]
     },
     "execution_count": 158,
     "metadata": {},
     "output_type": "execute_result"
    }
   ],
   "source": [
    "data = data.sort_values(by=\"positive_probability\", ascending=True)\n",
    "data.head()"
   ]
  },
  {
   "cell_type": "code",
   "execution_count": 159,
   "metadata": {},
   "outputs": [
    {
     "data": {
      "text/plain": [
       "np.float64(0.8953780070878565)"
      ]
     },
     "execution_count": 159,
     "metadata": {},
     "output_type": "execute_result"
    }
   ],
   "source": [
    "metrics.auc(data['positive_probability'], data['label'])"
   ]
  },
  {
   "cell_type": "code",
   "execution_count": 160,
   "metadata": {},
   "outputs": [
    {
     "data": {
      "text/plain": [
       "[<matplotlib.lines.Line2D at 0x30165f640>]"
      ]
     },
     "execution_count": 160,
     "metadata": {},
     "output_type": "execute_result"
    },
    {
     "data": {
      "image/png": "[encoded data removed]",
      "text/plain": [
       "<Figure size 640x480 with 1 Axes>"
      ]
     },
     "metadata": {},
     "output_type": "display_data"
    }
   ],
   "source": [
    "plt.plot(data['positive_probability'], data['label'])"
   ]
  },
  {
   "cell_type": "code",
   "execution_count": null,
   "metadata": {},
   "outputs": [],
   "source": []
  }
 ],
 "metadata": {
  "kernelspec": {
   "display_name": "Python 3 (ipykernel)",
   "language": "python",
   "name": "python3"
  },
  "language_info": {
   "codemirror_mode": {
    "name": "ipython",
    "version": 3
   },
   "file_extension": ".py",
   "mimetype": "text/x-python",
   "name": "python",
   "nbconvert_exporter": "python",
   "pygments_lexer": "ipython3",
   "version": "3.9.19"
  }
 },
 "nbformat": 4,
 "nbformat_minor": 4
}
